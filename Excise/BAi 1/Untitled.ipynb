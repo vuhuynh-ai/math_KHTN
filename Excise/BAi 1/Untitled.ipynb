{
 "cells": [
  {
   "cell_type": "code",
   "execution_count": 1,
   "metadata": {},
   "outputs": [
    {
     "name": "stdout",
     "output_type": "stream",
     "text": [
      "[[0. 1. 0. 0. 0.]\n",
      " [0. 0. 0. 1. 0.]\n",
      " [1. 0. 0. 0. 0.]\n",
      " [0. 0. 0. 0. 1.]\n",
      " [0. 0. 1. 0. 0.]]\n",
      "[[ 1.          0.          0.          0.          0.        ]\n",
      " [ 0.28571429  1.          0.          0.          0.        ]\n",
      " [ 0.28571429  0.72        1.          0.          0.        ]\n",
      " [ 0.71428571 -0.44       -0.09160305  1.          0.        ]\n",
      " [ 0.71428571  0.12        0.19847328  0.75448276  1.        ]]\n",
      "[[ 7.          5.          6.          6.          0.        ]\n",
      " [ 0.          3.57142857  6.28571429  5.28571429  0.        ]\n",
      " [ 0.          0.         -5.24       -5.52        0.        ]\n",
      " [ 0.          0.          0.          5.53435115  0.        ]\n",
      " [ 0.          0.          0.          0.          0.        ]]\n",
      "[[2. 5. 8. 7. 0.]\n",
      " [5. 2. 2. 8. 0.]\n",
      " [7. 5. 6. 6. 0.]\n",
      " [5. 4. 4. 8. 0.]\n",
      " [2. 4. 1. 0. 0.]]\n",
      "matran k vuong: (3, 4) :\n",
      " [[10 10  4  9]\n",
      " [ 2 11  2  6]\n",
      " [ 9  1  8  8]]\n"
     ]
    }
   ],
   "source": [
    "import numpy as np\n",
    "import random\n",
    "from scipy.linalg import lu\n",
    "A = np.array([[2, 5, 8, 7, 0], [5, 2, 2, 8, 0], [7, 5, 6, 6, 0], [5, 4, 4, 8, 0], [2, 4, 1, 0, 0]])\n",
    "p, l, u = lu(A)\n",
    "print(p)\n",
    "print(l)\n",
    "print(u)\n",
    "a = p.dot(l).dot(u)\n",
    "print(a)\n",
    "\n",
    "def new_matrix(m, n, start, end):\n",
    "    mat = []\n",
    "    for i in range(m):\n",
    "        row = []\n",
    "        for j in range(n):\n",
    "            x = random.randint(start, end+1)\n",
    "            row.append(x)\n",
    "        mat.append(row)\n",
    "    return np.array(mat)\n",
    "Z = new_matrix(3,4,1,10)\n",
    "print('matran k vuong:',Z.shape, ':\\n', Z)\n"
   ]
  },
  {
   "cell_type": "code",
   "execution_count": 9,
   "metadata": {},
   "outputs": [
    {
     "name": "stdout",
     "output_type": "stream",
     "text": [
      "9\n",
      "[[1 2 3]\n",
      " [2 1 3]\n",
      " [1 3 1]]\n",
      "(3, 3)\n"
     ]
    }
   ],
   "source": [
    "a = np.array([[1,2,3],[2,1,3],[1,3,1]])\n",
    "print(np.size(a))\n",
    "print(a)\n",
    "print(a.shape)\n"
   ]
  },
  {
   "cell_type": "code",
   "execution_count": 39,
   "metadata": {},
   "outputs": [
    {
     "name": "stdout",
     "output_type": "stream",
     "text": [
      "[4. 6. 7.]\n",
      "4.58257569495584\n",
      "(3,)\n",
      "(3, 1)\n",
      "2\n"
     ]
    }
   ],
   "source": [
    "from numpy.linalg import norm\n",
    "print(norm(a, ord = 1, axis = 0))\n",
    "b = np.array([1,2,4])\n",
    "c = np.array([[1],[2],[3]])\n",
    "print(norm(b))\n",
    "print(b.shape)\n",
    "print(c.shape)\n",
    "print(c.ndim)\n"
   ]
  },
  {
   "cell_type": "code",
   "execution_count": 48,
   "metadata": {},
   "outputs": [
    {
     "name": "stdout",
     "output_type": "stream",
     "text": [
      "[[1, 2, 3], [2, 3, 4]]\n",
      "6\n"
     ]
    }
   ],
   "source": [
    "d = [[1,2,3], [2,3,4]]\n",
    "d_arr = np.array(d)\n",
    "print(d)\n",
    "print(d_arr.size)"
   ]
  },
  {
   "cell_type": "code",
   "execution_count": 55,
   "metadata": {},
   "outputs": [
    {
     "name": "stdout",
     "output_type": "stream",
     "text": [
      "[3 3 1]\n",
      "[1 3 1]\n"
     ]
    }
   ],
   "source": [
    "print(a[:,2])\n",
    "print(a[2])"
   ]
  }
 ],
 "metadata": {
  "kernelspec": {
   "display_name": "Python 3",
   "language": "python",
   "name": "python3"
  },
  "language_info": {
   "codemirror_mode": {
    "name": "ipython",
    "version": 3
   },
   "file_extension": ".py",
   "mimetype": "text/x-python",
   "name": "python",
   "nbconvert_exporter": "python",
   "pygments_lexer": "ipython3",
   "version": "3.9.0"
  }
 },
 "nbformat": 4,
 "nbformat_minor": 4
}
